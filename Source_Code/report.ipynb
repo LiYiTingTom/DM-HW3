{
 "cells": [
  {
   "cell_type": "code",
   "execution_count": 1,
   "metadata": {},
   "outputs": [],
   "source": [
    "import os\n",
    "import time\n",
    "from importlib import reload\n",
    "\n",
    "import numpy as np\n",
    "import seaborn as sns\n",
    "import matplotlib.pyplot as plt\n",
    "\n",
    "import algos\n",
    "import utils\n",
    "reload(utils)\n",
    "\n",
    "plt.rcParams['axes.facecolor']='white'\n",
    "plt.rcParams['savefig.facecolor']='white'"
   ]
  },
  {
   "cell_type": "markdown",
   "metadata": {},
   "source": [
    "# Some preparing"
   ]
  },
  {
   "cell_type": "code",
   "execution_count": 2,
   "metadata": {},
   "outputs": [],
   "source": [
    "graphs = [utils.Graph.init(f'dataset/graph_{i}.txt') for i in range(1, 5)]"
   ]
  },
  {
   "cell_type": "markdown",
   "metadata": {},
   "source": [
    "# 1. Find a way"
   ]
  },
  {
   "cell_type": "code",
   "execution_count": 3,
   "metadata": {},
   "outputs": [],
   "source": [
    "def add_link(graph):\n",
    "    for tag in [node.tag for node in graph.nodes]:\n",
    "        if tag != 1:\n",
    "            graph.add_edge(from_=tag, to_=1)\n",
    "    return graph\n",
    "\n",
    "def exp_increase(graph, func):\n",
    "    iteration = 10\n",
    "    damp_fac = .15\n",
    "\n",
    "    print('Before link every nodes to node1')\n",
    "    hits = algos.HITS(\n",
    "        graph=graph,\n",
    "        iteration=iteration)\n",
    "    auth_list, hub_list = hits.get_auth_hub_list()\n",
    "    print(f'HITS:\\n\\tAuthority:{auth_list}\\n\\tHub:      {hub_list}')\n",
    "\n",
    "    pr = algos.PageRank(\n",
    "        graph=graph,\n",
    "        damping_factor=damp_fac,\n",
    "        iteration=iteration)\n",
    "    pr_list = pr.get_pr_arr()\n",
    "    print('\\nPR:\\n\\tPageRank:', pr_list)\n",
    "\n",
    "    graph = func(graph)\n",
    "\n",
    "    print('After link every nodes to node1')\n",
    "    hits = algos.HITS(\n",
    "        graph=graph,\n",
    "        iteration=iteration)\n",
    "    auth_list, hub_list = hits.get_auth_hub_list()\n",
    "    print(f'HITS:\\n\\tAuthority:{auth_list}\\n\\tHub:      {hub_list}')\n",
    "\n",
    "    pr = algos.PageRank(\n",
    "        graph=graph,\n",
    "        damping_factor=damp_fac,\n",
    "        iteration=iteration)\n",
    "    pr_list = pr.get_pr_arr()\n",
    "    print('\\nPR:\\n\\tPageRank:', pr_list, '\\n\\n')\n",
    "    return graph\n",
    "\n",
    "def find_a_way():\n",
    "    for graph in graphs[:]:\n",
    "        new_graph = exp_increase(graph, add_link)\n",
    "        print('link addition:\\n', new_graph.to_numpy())"
   ]
  },
  {
   "cell_type": "markdown",
   "metadata": {},
   "source": [
    "# 2. Result analysis & discussion"
   ]
  },
  {
   "cell_type": "markdown",
   "metadata": {},
   "source": [
    "## (1) damping factor"
   ]
  },
  {
   "cell_type": "code",
   "execution_count": 4,
   "metadata": {},
   "outputs": [],
   "source": [
    "def exp_draw_damping_facs(graph, graph_id, iteration=100):\n",
    "    results = []\n",
    "    os.makedirs(f'images/damping_factor', exist_ok=True)\n",
    "    damp_facs = np.arange(0.1, 1, 0.01)\n",
    "    for damp_fac in damp_facs:\n",
    "\n",
    "        pr = algos.PageRank(\n",
    "            graph=graph,\n",
    "            damping_factor=damp_fac,\n",
    "            iteration=iteration)\n",
    "        pr_list = pr.get_pr_arr()\n",
    "        results.append(pr_list)\n",
    "\n",
    "    result = np.stack(results)\n",
    "\n",
    "    plt.plot(damp_facs, result)\n",
    "    plt.title('Effection of decay factors(0.1 to 1 step by 0.01).')\n",
    "    plt.xlabel('Damping Factor')\n",
    "    plt.ylabel('Page Rank')\n",
    "    plt.legend([f'node {node.tag}' for node in graph.nodes])\n",
    "    plt.savefig(f'images/damping_factor/{graph_id}')\n",
    "    plt.clf()"
   ]
  },
  {
   "cell_type": "markdown",
   "metadata": {},
   "source": [
    "## (2) decay factor"
   ]
  },
  {
   "cell_type": "code",
   "execution_count": 5,
   "metadata": {},
   "outputs": [],
   "source": [
    "def exp_draw_decay_facs(graph, graph_id, iteration=100):\n",
    "    decay_fac = np.arange(0.1, 1, 0.1)\n",
    "    os.makedirs(f'images/decay_factor/{graph_id}', exist_ok=True)\n",
    "\n",
    "    for i, decay_fac in enumerate(decay_fac):\n",
    "        sim = algos.Similarity(\n",
    "            graph=graph,\n",
    "            decay_fac=decay_fac)\n",
    "\n",
    "        sr = algos.SimRank(\n",
    "            graph=graph,\n",
    "            iteration=iteration,\n",
    "            sim=sim)\n",
    "\n",
    "        sim_mat = sr.get_sim_matrix()\n",
    "\n",
    "        img = sns.heatmap(sim_mat, annot=True, fmt=\".2f\")\n",
    "        plt.title(f'Effection of decay factors ({decay_fac:.1f})')\n",
    "        plt.savefig(f'images/decay_factor/{graph_id}/{i}')\n",
    "        plt.clf()"
   ]
  },
  {
   "cell_type": "markdown",
   "metadata": {},
   "source": [
    "# 3. Effectiveness analysis"
   ]
  },
  {
   "cell_type": "code",
   "execution_count": 8,
   "metadata": {},
   "outputs": [],
   "source": [
    "def exp_run_time():\n",
    "    def one_epoch(graph, graph_id, iteration, damp_fac, decay_fac):\n",
    "        s = time.time()\n",
    "        # HITS\n",
    "        hits = algos.HITS(\n",
    "            graph=graph,\n",
    "            iteration=iteration)\n",
    "        auth_list, hub_list = hits.get_auth_hub_list()\n",
    "        # PageRank\n",
    "        pr = algos.PageRank(\n",
    "            graph=graph,\n",
    "            damping_factor=damp_fac,\n",
    "            iteration=iteration)\n",
    "        pr_list = pr.get_pr_arr()\n",
    "        # SimRank\n",
    "        sim = algos.Similarity(\n",
    "            graph=graph,\n",
    "            decay_fac=decay_fac)\n",
    "        sr = algos.SimRank(\n",
    "            graph=graph,\n",
    "            iteration=iteration,\n",
    "            sim=sim)\n",
    "        sim_mat = sr.get_sim_matrix()\n",
    "        return time.time() - s\n",
    "\n",
    "    results = []\n",
    "    iters = np.arange(10, 1000, 10)\n",
    "    for it in iters:\n",
    "        result = []\n",
    "        for i, graph in enumerate(graphs):\n",
    "            result.append(\n",
    "                one_epoch(graph, i+1, it, damp_fac=.1, decay_fac=.95))\n",
    "        results.append(result)\n",
    "    ans = np.array(results)\n",
    "    plt.plot(iters, ans)\n",
    "    plt.title('Effection of iteration(10 to 1000, step by 10)')\n",
    "    plt.xlabel('iterations')\n",
    "    plt.ylabel('costed time (sec)')\n",
    "    plt.legend([f'graph_{i}' for i in np.arange(1, 5)])"
   ]
  },
  {
   "cell_type": "code",
   "execution_count": 9,
   "metadata": {},
   "outputs": [
    {
     "data": {
      "image/png": "[encoded data removed]",
      "text/plain": [
       "<Figure size 432x288 with 1 Axes>"
      ]
     },
     "metadata": {
      "needs_background": "light"
     },
     "output_type": "display_data"
    }
   ],
   "source": [
    "exp_run_time()"
   ]
  },
  {
   "cell_type": "code",
   "execution_count": null,
   "metadata": {},
   "outputs": [],
   "source": []
  }
 ],
 "metadata": {
  "interpreter": {
   "hash": "31f2aee4e71d21fbe5cf8b01ff0e069b9275f58929596ceb00d14d90e3e16cd6"
  },
  "kernelspec": {
   "display_name": "Python 3.8.10 64-bit",
   "language": "python",
   "name": "python3"
  },
  "language_info": {
   "codemirror_mode": {
    "name": "ipython",
    "version": 3
   },
   "file_extension": ".py",
   "mimetype": "text/x-python",
   "name": "python",
   "nbconvert_exporter": "python",
   "pygments_lexer": "ipython3",
   "version": "3.8.10"
  },
  "orig_nbformat": 4
 },
 "nbformat": 4,
 "nbformat_minor": 2
}
